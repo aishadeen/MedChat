{
  "nbformat": 4,
  "nbformat_minor": 0,
  "metadata": {
    "colab": {
      "provenance": [],
      "include_colab_link": true
    },
    "kernelspec": {
      "name": "python3",
      "display_name": "Python 3"
    },
    "language_info": {
      "name": "python"
    }
  },
  "cells": [
    {
      "cell_type": "markdown",
      "metadata": {
        "id": "view-in-github",
        "colab_type": "text"
      },
      "source": [
        "<a href=\"https://colab.research.google.com/github/aishadeen/MedChat/blob/main/TechBrailzersGemini.ipynb\" target=\"_parent\"><img src=\"https://colab.research.google.com/assets/colab-badge.svg\" alt=\"Open In Colab\"/></a>"
      ]
    },
    {
      "cell_type": "code",
      "source": [
        "import requests\n",
        "from google.colab import userdata"
      ],
      "metadata": {
        "id": "6569cNTaTmG5"
      },
      "execution_count": null,
      "outputs": []
    },
    {
      "cell_type": "code",
      "source": [
        "from IPython.display import display, HTML\n",
        "import json\n",
        "import pprint\n",
        "\n",
        "def pretty_print_conversation(data):\n",
        "    role_to_color = {\n",
        "        \"model\": \"dodgerblue\",\n",
        "    }\n",
        "\n",
        "    for candidate in data['candidates']:\n",
        "        content = candidate['content']\n",
        "        role = content['role']\n",
        "        text_parts = content['parts']\n",
        "\n",
        "        for part in text_parts:\n",
        "            msg = part['text']\n",
        "\n",
        "            # Handling different msg types\n",
        "            if isinstance(msg, dict):\n",
        "                msg = json.dumps(msg, indent=2)\n",
        "            elif not isinstance(msg, str):\n",
        "                msg = pprint.pformat(msg)\n",
        "\n",
        "            msg = msg.replace(\"\\n\", \"<br>\")  # Replaces all \"\\n\" with \"<br>\" for HTML\n",
        "\n",
        "            display(HTML(f'<font color=\"{role_to_color[role]}\">{role}: {msg}</font><br>'))\n"
      ],
      "metadata": {
        "id": "YYZxYmzKihrM"
      },
      "execution_count": 20,
      "outputs": []
    },
    {
      "cell_type": "code",
      "source": [
        "PROJECT_ID = userdata.get('PROJECT_ID')\n",
        "MODEL_ID = \"gemini-1.5-pro-preview-0409\"\n",
        "VERTEX_KEY = userdata.get('VERTEX_KEY')\n"
      ],
      "metadata": {
        "id": "-rvPxWoweuRn"
      },
      "execution_count": null,
      "outputs": []
    },
    {
      "cell_type": "code",
      "source": [
        "url = f\"https://us-central1-aiplatform.googleapis.com/v1/projects/{PROJECT_ID}/locations/us-central1/publishers/google/models/{MODEL_ID}:generateContent\"\n",
        "headers = {\n",
        "  \"Authorization\": f\"Bearer {VERTEX_KEY}\",\n",
        "  \"Content-Type\": \"application/json\"\n",
        "}\n"
      ],
      "metadata": {
        "id": "vM8ZgD6-ezwn"
      },
      "execution_count": null,
      "outputs": []
    },
    {
      "cell_type": "code",
      "source": [
        "data = {\n",
        "  \"contents\": {\n",
        "    \"role\": \"user\",\n",
        "    \"parts\": [\n",
        "      {\n",
        "        \"text\": \"What's a good name for a flower shop that specializes in selling bouquets of dried flowers?\"\n",
        "      }\n",
        "    ]\n",
        "  }\n",
        "}\n",
        "\n",
        "response = requests.post(url, headers=headers, json=data)\n",
        "response.json()"
      ],
      "metadata": {
        "colab": {
          "base_uri": "https://localhost:8080/"
        },
        "id": "HRwSjosrf42b",
        "outputId": "9193c16e-498c-493f-8d63-9af3986f01bd"
      },
      "execution_count": null,
      "outputs": [
        {
          "output_type": "execute_result",
          "data": {
            "text/plain": [
              "{'candidates': [{'content': {'role': 'model',\n",
              "    'parts': [{'text': 'Here are some names for a flower shop specializing in dried flowers:\\n\\n**Classic & Elegant:**\\n\\n* The Dried Bloom\\n* Timeless Petals\\n* Everlasting Florals\\n* The Preserved Garden\\n* Vintage Bouquet\\n\\n**Whimsical & Unique:**\\n\\n* The Paper Daisy\\n* Whispering Blooms\\n* Rust & Bloom\\n* The Amaranthine\\n* Second Spring \\n\\n**Descriptive & Location-Specific:**\\n\\n* [Your Town/City] Dried Flower Co.\\n* The Dried Flower Bar\\n* Desert Blooms \\n\\n**Tips for Choosing the Right Name:**\\n\\n* **Keep it short and memorable.**\\n* **Reflect your style and target audience.**\\n* **Make sure the name is available as a web domain and social media handle.** \\n\\nGood luck with your shop! \\n'}]},\n",
              "   'finishReason': 'STOP',\n",
              "   'safetyRatings': [{'category': 'HARM_CATEGORY_HATE_SPEECH',\n",
              "     'probability': 'NEGLIGIBLE',\n",
              "     'probabilityScore': 0.06164962,\n",
              "     'severity': 'HARM_SEVERITY_NEGLIGIBLE',\n",
              "     'severityScore': 0.051845465},\n",
              "    {'category': 'HARM_CATEGORY_DANGEROUS_CONTENT',\n",
              "     'probability': 'NEGLIGIBLE',\n",
              "     'probabilityScore': 0.036631368,\n",
              "     'severity': 'HARM_SEVERITY_NEGLIGIBLE',\n",
              "     'severityScore': 0.083890386},\n",
              "    {'category': 'HARM_CATEGORY_HARASSMENT',\n",
              "     'probability': 'NEGLIGIBLE',\n",
              "     'probabilityScore': 0.07369627,\n",
              "     'severity': 'HARM_SEVERITY_NEGLIGIBLE',\n",
              "     'severityScore': 0.032589745},\n",
              "    {'category': 'HARM_CATEGORY_SEXUALLY_EXPLICIT',\n",
              "     'probability': 'NEGLIGIBLE',\n",
              "     'probabilityScore': 0.15291563,\n",
              "     'severity': 'HARM_SEVERITY_NEGLIGIBLE',\n",
              "     'severityScore': 0.124319285}]}],\n",
              " 'usageMetadata': {'promptTokenCount': 19,\n",
              "  'candidatesTokenCount': 166,\n",
              "  'totalTokenCount': 185}}"
            ]
          },
          "metadata": {},
          "execution_count": 7
        }
      ]
    },
    {
      "cell_type": "code",
      "source": [
        "doctors_profile = '''\n",
        "### Doctor's Profile\n",
        "\n",
        "**Name:** Dr. James Mwangi\n",
        "\n",
        "**Specialization:** Internal Medicine\n",
        "\n",
        "**Education:**\n",
        "- Bachelor of Medicine and Bachelor of Surgery (MBChB) - University of Nairobi\n",
        "- Master of Medicine in Internal Medicine - University of Nairobi\n",
        "- Fellowship in Infectious Diseases - Aga Khan University Hospital, Nairobi\n",
        "\n",
        "**Experience:**\n",
        "- **Nairobi Hospital** - Consultant Physician, 10 years\n",
        "- **Kenyatta National Hospital** - Senior Registrar, 5 years\n",
        "- **Aga Khan University Hospital, Nairobi** - Infectious Disease Specialist, 3 years\n",
        "\n",
        "**Skills:**\n",
        "- Diagnosis and management of chronic illnesses (e.g., hypertension, diabetes)\n",
        "- Expertise in infectious diseases (e.g., malaria, HIV/AIDS)\n",
        "- Proficient in advanced diagnostic techniques and procedures\n",
        "- Patient education and preventive healthcare\n",
        "\n",
        "**Languages Spoken:**\n",
        "- English\n",
        "- Swahili\n",
        "\n",
        "**Professional Memberships:**\n",
        "- Kenya Medical Association (KMA)\n",
        "- Kenya Association of Physicians (KAP)\n",
        "- East African Health Platform (EAHP)\n",
        "\n",
        "**Contact Information:**\n",
        "- **Clinic Address:** Nairobi Hospital, Argwings Kodhek Road, Nairobi, Kenya\n",
        "- **Phone:** +254 20 271 4400\n",
        "- **Email:** dr.james.mwangi@nairobhospital.org\n",
        "\n",
        "**Office Hours:**\n",
        "- Monday to Friday: 9:00 AM - 5:00 PM\n",
        "- Saturday: 9:00 AM - 1:00 PM\n",
        "- Sunday: Closed\n",
        "\n",
        "**Special Interests:**\n",
        "- Community health initiatives\n",
        "- Research in infectious disease control\n",
        "- Medical education and training\n",
        "\n",
        "**Personal Statement:**\n",
        "\"Dedicated to providing compassionate and comprehensive healthcare, I am committed to improving patient outcomes through evidence-based practices and continuous medical education. My goal is to ensure each patient receives personalized care tailored to their unique health needs.\"\n",
        "\n",
        "**Hobbies:**\n",
        "- Volunteering in medical camps\n",
        "- Reading medical journals\n",
        "- Hiking and outdoor activities\n",
        "'''"
      ],
      "metadata": {
        "id": "xwaMeuegbvvM"
      },
      "execution_count": null,
      "outputs": []
    },
    {
      "cell_type": "code",
      "source": [
        "instructions = f'''\n",
        "You are the Doctor's assistant, helping in collecting medical history of a patient,\n",
        "before saving it for the doctor.\n",
        "\n",
        "Rules:\n",
        "- Make sure the person can speak the langauge you want to interact with them with first,\n",
        " By asking them which langauge they would prefer, then proceed from there\n",
        " For example: \"Hello which do you speak English or Turkish?\\nMerhaba, hangi dilli konuşuyorsun, İngilizce veya Türkçe?\"\n",
        "- Collect as much information as you can without being too overbearing for the\n",
        "  patient.\n",
        "\n",
        "Here is the Doctor's profile that you are an assistant for:\n",
        "{doctors_profile}\n",
        "\n",
        "\n",
        "Medical History Template\n",
        "\n",
        "### General Information\n",
        "1. **Personal Details:**\n",
        "   - **Name:**\n",
        "   - **Age:**\n",
        "   - **Sex:**\n",
        "   - **Nationality:**\n",
        "   - **Home & Residence:**\n",
        "   - **Occupation:**\n",
        "   - **Marital Status:**\n",
        "   - **Date of Admission:**\n",
        "\n",
        "### Chief Complaint\n",
        "2. **Chief Complaint (C/O):**\n",
        "   - Description in patient's own words\n",
        "   - Duration of the complaint\n",
        "   - Example format: \"Right Inguinal Swelling / 1 Month\"\n",
        "\n",
        "### History of Presenting Illness (HPI)\n",
        "3. **Details of Current Illness:**\n",
        "   - Onset and progression of symptoms\n",
        "   - Known chronic diseases and usual status before onset\n",
        "   - Specifics of the current complaint\n",
        "\n",
        "### Past Medical History\n",
        "4. **Chronic Conditions:**\n",
        "   - List conditions (e.g., Asthma, TB, Hepatitis, HIV)\n",
        "   - Details: When, Where, and How diagnosed?\n",
        "   - Previous hospital admissions and reasons\n",
        "   - Previous surgical interventions\n",
        "   - History of blood transfusions\n",
        "\n",
        "### Family History\n",
        "5. **Family Medical History:**\n",
        "   - Chronic diseases (HTN, DM, Asthma, TB, Hepatitis, HIV)\n",
        "   - Similar conditions in family members\n",
        "   - Inherited/genetic diseases\n",
        "   - Consanguinity (if applicable)\n",
        "   - History of sudden death or cancers in the family\n",
        "\n",
        "### Social History\n",
        "6. **Lifestyle and Social Factors:**\n",
        "   - Housing conditions\n",
        "   - Social and educational class\n",
        "   - Special habits (alcohol abuse, smoking, drug abuse, sexual activities)\n",
        "   - Recent travel history (when, where, how many times)\n",
        "   - Contact with animals\n",
        "\n",
        "### Drug and Allergy History\n",
        "7. **Medications and Allergies:**\n",
        "   - Long-term medications\n",
        "   - Short-term medications\n",
        "   - Allergies to food or medications\n",
        "   - Smoking details: Duration, type, and smoking index (Pack-Year)\n",
        "\n",
        "### Obstetric & Gynecological History (For Female Patients)\n",
        "8. **Gynecological History:**\n",
        "   - Age of menarche\n",
        "   - Regularity and character of menstrual cycle (heavy or not)\n",
        "   - Duration and volume of menstruation\n",
        "   - Age of menopause\n",
        "   - Use of contraception methods\n",
        "   - Details of each delivery: Duration, mode, and complications if any\n",
        "\n",
        "'''"
      ],
      "metadata": {
        "id": "pLRhTt6Hpu4k"
      },
      "execution_count": 17,
      "outputs": []
    },
    {
      "cell_type": "code",
      "source": [
        "def get_initial_data() -> dict:\n",
        "\n",
        "  data = {\n",
        "      \"contents\": [\n",
        "      {\n",
        "        \"role\": \"user\",\n",
        "        \"parts\": {\n",
        "          \"text\": instructions\n",
        "        }\n",
        "      },\n",
        "    ]\n",
        "  }\n",
        "\n",
        "  return data\n",
        "\n",
        "\n",
        "def get_llm_response(response) -> dict:\n",
        "  return response.json()['candidates'][0][\"content\"]\n",
        "\n",
        "def get_user_input() -> str | bool:\n",
        "  user_input = input(\"You: \")\n",
        "\n",
        "  if user_input == \"exit\" or user_input == \"quit\":\n",
        "    return False\n",
        "\n",
        "  return {\n",
        "    \"role\": \"user\",\n",
        "    \"parts\": {\n",
        "      \"text\": user_input,\n",
        "    }\n",
        "  }\n"
      ],
      "metadata": {
        "id": "V4jxNKCznQSR"
      },
      "execution_count": 48,
      "outputs": []
    },
    {
      "cell_type": "code",
      "source": [
        "response = requests.post(\n",
        "    url,\n",
        "    headers=headers,\n",
        "    json=get_initial_data()\n",
        ")\n",
        "\n",
        "while True:\n",
        "\n"
      ],
      "metadata": {
        "id": "O6Uisx1LnclE"
      },
      "execution_count": null,
      "outputs": []
    },
    {
      "cell_type": "code",
      "source": [
        "\n",
        "\n",
        "response = requests.post(url, headers=headers, json=data)\n",
        "\n",
        "\n",
        "response.json()\n"
      ],
      "metadata": {
        "colab": {
          "base_uri": "https://localhost:8080/"
        },
        "id": "EU1uHsBJf9GC",
        "outputId": "c1e20428-fd3f-428d-aac2-45041df9557d"
      },
      "execution_count": 18,
      "outputs": [
        {
          "output_type": "execute_result",
          "data": {
            "text/plain": [
              "{'candidates': [{'content': {'role': 'model',\n",
              "    'parts': [{'text': 'Hello, which language do you prefer to speak, English or Swahili?\\nHabari, ungependa kuzungumza lugha gani, Kiingereza au Kiswahili? \\n'}]},\n",
              "   'finishReason': 'STOP',\n",
              "   'safetyRatings': [{'category': 'HARM_CATEGORY_HATE_SPEECH',\n",
              "     'probability': 'NEGLIGIBLE',\n",
              "     'probabilityScore': 0.14330755,\n",
              "     'severity': 'HARM_SEVERITY_NEGLIGIBLE',\n",
              "     'severityScore': 0.122418255},\n",
              "    {'category': 'HARM_CATEGORY_DANGEROUS_CONTENT',\n",
              "     'probability': 'NEGLIGIBLE',\n",
              "     'probabilityScore': 0.019531239,\n",
              "     'severity': 'HARM_SEVERITY_NEGLIGIBLE',\n",
              "     'severityScore': 0.04594821},\n",
              "    {'category': 'HARM_CATEGORY_HARASSMENT',\n",
              "     'probability': 'NEGLIGIBLE',\n",
              "     'probabilityScore': 0.26095408,\n",
              "     'severity': 'HARM_SEVERITY_NEGLIGIBLE',\n",
              "     'severityScore': 0.13386749},\n",
              "    {'category': 'HARM_CATEGORY_SEXUALLY_EXPLICIT',\n",
              "     'probability': 'NEGLIGIBLE',\n",
              "     'probabilityScore': 0.0894546,\n",
              "     'severity': 'HARM_SEVERITY_NEGLIGIBLE',\n",
              "     'severityScore': 0.02428387}]}],\n",
              " 'usageMetadata': {'promptTokenCount': 1053,\n",
              "  'candidatesTokenCount': 40,\n",
              "  'totalTokenCount': 1093}}"
            ]
          },
          "metadata": {},
          "execution_count": 18
        }
      ]
    },
    {
      "cell_type": "code",
      "source": [],
      "metadata": {
        "id": "LST-PID4kTJE"
      },
      "execution_count": 47,
      "outputs": []
    },
    {
      "cell_type": "code",
      "source": [],
      "metadata": {
        "id": "KM42Mp63mJPW"
      },
      "execution_count": 40,
      "outputs": []
    },
    {
      "cell_type": "code",
      "source": [
        "get_user_input(\n",
        "\n",
        ")"
      ],
      "metadata": {
        "colab": {
          "base_uri": "https://localhost:8080/"
        },
        "id": "hm37aQOemViY",
        "outputId": "17d9d3ce-942a-4e91-9a56-bc850c989c1b"
      },
      "execution_count": 41,
      "outputs": [
        {
          "name": "stdout",
          "output_type": "stream",
          "text": [
            "You: Naitwa Noordin\n"
          ]
        },
        {
          "output_type": "execute_result",
          "data": {
            "text/plain": [
              "{'role': 'user', 'parts': {'text': 'Naitwa Noordin'}}"
            ]
          },
          "metadata": {},
          "execution_count": 41
        }
      ]
    },
    {
      "cell_type": "code",
      "source": [
        "data = {\n",
        "  \"contents\": [\n",
        "    {\n",
        "    \"role\": \"user\",\n",
        "    \"parts\": {\n",
        "      \"text\": \"cow\",\n",
        "    },\n",
        "  },\n",
        "  llm_response,\n",
        "  get_user_input(),\n",
        "  ],\n",
        "}\n"
      ],
      "metadata": {
        "colab": {
          "base_uri": "https://localhost:8080/"
        },
        "id": "bajI1Y2dj3jK",
        "outputId": "860eb791-7e99-4f32-dea5-30b43d12fdde"
      },
      "execution_count": 42,
      "outputs": [
        {
          "name": "stdout",
          "output_type": "stream",
          "text": [
            "You: Naitwa Noordin\n"
          ]
        }
      ]
    },
    {
      "cell_type": "code",
      "source": [
        "response_2 = requests.post(url, headers=headers, json=data)\n",
        "response_2.json()"
      ],
      "metadata": {
        "colab": {
          "base_uri": "https://localhost:8080/"
        },
        "id": "a5BomCG7kojE",
        "outputId": "8f76c427-9dad-4aad-e907-20950e3ab098"
      },
      "execution_count": 43,
      "outputs": [
        {
          "output_type": "execute_result",
          "data": {
            "text/plain": [
              "{'candidates': [{'content': {'role': 'model',\n",
              "    'parts': [{'text': 'Habari Noordin, umependelea kuzungumza Kiswahili. Unataka kuzungumzia nini leo?\\n'}]},\n",
              "   'finishReason': 'STOP',\n",
              "   'safetyRatings': [{'category': 'HARM_CATEGORY_HATE_SPEECH',\n",
              "     'probability': 'NEGLIGIBLE',\n",
              "     'probabilityScore': 0.18097353,\n",
              "     'severity': 'HARM_SEVERITY_NEGLIGIBLE',\n",
              "     'severityScore': 0.1261379},\n",
              "    {'category': 'HARM_CATEGORY_DANGEROUS_CONTENT',\n",
              "     'probability': 'NEGLIGIBLE',\n",
              "     'probabilityScore': 0.035745807,\n",
              "     'severity': 'HARM_SEVERITY_NEGLIGIBLE',\n",
              "     'severityScore': 0.051177494},\n",
              "    {'category': 'HARM_CATEGORY_HARASSMENT',\n",
              "     'probability': 'NEGLIGIBLE',\n",
              "     'probabilityScore': 0.199308,\n",
              "     'severity': 'HARM_SEVERITY_NEGLIGIBLE',\n",
              "     'severityScore': 0.0992954},\n",
              "    {'category': 'HARM_CATEGORY_SEXUALLY_EXPLICIT',\n",
              "     'probability': 'NEGLIGIBLE',\n",
              "     'probabilityScore': 0.08181271,\n",
              "     'severity': 'HARM_SEVERITY_NEGLIGIBLE',\n",
              "     'severityScore': 0.044597577}]}],\n",
              " 'usageMetadata': {'promptTokenCount': 46,\n",
              "  'candidatesTokenCount': 26,\n",
              "  'totalTokenCount': 72}}"
            ]
          },
          "metadata": {},
          "execution_count": 43
        }
      ]
    },
    {
      "cell_type": "code",
      "source": [
        "messages_data = {}"
      ],
      "metadata": {
        "id": "JTQA0r52m9mJ"
      },
      "execution_count": null,
      "outputs": []
    },
    {
      "cell_type": "code",
      "source": [],
      "metadata": {
        "id": "nBg36iV1nA0m"
      },
      "execution_count": null,
      "outputs": []
    },
    {
      "cell_type": "code",
      "source": [
        "data = {\n",
        "  \"contents\": [\n",
        "    {\n",
        "    \"role\": \"user\",\n",
        "    \"parts\": {\n",
        "      \"text\": \"cow\",\n",
        "    },\n",
        "  },\n",
        "  llm_response,\n",
        "  get_user_input(),\n",
        "  ],\n",
        "}"
      ],
      "metadata": {
        "id": "PnjI6NjAmlZ8"
      },
      "execution_count": null,
      "outputs": []
    },
    {
      "cell_type": "code",
      "source": [
        "import requests\n",
        "from google.colab import userdata\n",
        "from IPython.display import display, HTML\n",
        "import json\n",
        "import pprint\n",
        "\n",
        "# Function to print conversation in a readable format\n",
        "def pretty_print_conversation(data):\n",
        "    role_to_color = {\n",
        "        \"user\": \"green\",\n",
        "        \"model\": \"dodgerblue\",\n",
        "    }\n",
        "\n",
        "    for candidate in data['candidates']:\n",
        "        content = candidate['content']\n",
        "        role = content['role']\n",
        "        text_parts = content['parts']\n",
        "\n",
        "        for part in text_parts:\n",
        "            msg = part['text']\n",
        "\n",
        "            if isinstance(msg, dict):\n",
        "                msg = json.dumps(msg, indent=2)\n",
        "            elif not isinstance(msg, str):\n",
        "                msg = pprint.pformat(msg)\n",
        "\n",
        "            msg = msg.replace(\"\\n\", \"<br>\")\n",
        "\n",
        "            display(HTML(f'<font color=\"{role_to_color.get(role, \"black\")}\">{role}: {msg}</font><br>'))\n",
        "\n",
        "# Function to get user input\n",
        "def get_user_input() -> dict:\n",
        "    user_input = input(\"You: \")\n",
        "    return {\n",
        "        \"role\": \"user\",\n",
        "        \"parts\": [\n",
        "            {\n",
        "                \"text\": user_input,\n",
        "            }\n",
        "        ]\n",
        "    }\n",
        "\n",
        "# Function to get LLM response content\n",
        "def get_llm_response(response) -> dict:\n",
        "    return response.json()['candidates'][0][\"content\"]\n",
        "\n",
        "# Set up project and model details\n",
        "PROJECT_ID = userdata.get('PROJECT_ID')\n",
        "MODEL_ID = \"gemini-1.5-pro-preview-0409\"\n",
        "VERTEX_KEY = userdata.get('VERTEX_KEY')\n",
        "\n",
        "url = f\"https://us-central1-aiplatform.googleapis.com/v1/projects/{PROJECT_ID}/locations/us-central1/publishers/google/models/{MODEL_ID}:generateContent\"\n",
        "headers = {\n",
        "    \"Authorization\": f\"Bearer {VERTEX_KEY}\",\n",
        "    \"Content-Type\": \"application/json\"\n",
        "}\n",
        "\n",
        "# Initial instructions or context for the LLM\n",
        "instructions = \"Your initial instructions or context here.\"\n",
        "\n",
        "# Start the conversation\n",
        "conversation_data = [\n",
        "    {\n",
        "        \"role\": \"user\",\n",
        "        \"parts\": [\n",
        "            {\n",
        "                \"text\": instructions\n",
        "            }\n",
        "        ]\n",
        "    }\n",
        "]\n",
        "\n",
        "# Function to interact with the LLM\n",
        "def interact_with_llm(conversation_data):\n",
        "    data = {\n",
        "        \"contents\": conversation_data\n",
        "    }\n",
        "    response = requests.post(url, headers=headers, json=data)\n",
        "    return response\n",
        "\n",
        "# Display initial conversation\n",
        "response = interact_with_llm(conversation_data)\n",
        "pretty_print_conversation(response.json())\n",
        "\n",
        "# Main loop for continuous interaction\n",
        "while True:\n",
        "    user_message = get_user_input()\n",
        "    conversation_data.append(user_message)\n",
        "\n",
        "    response = interact_with_llm(conversation_data)\n",
        "    pretty_print_conversation(response.json())\n",
        "\n",
        "    llm_response = get_llm_response(response)\n",
        "    conversation_data.append(llm_response)\n"
      ],
      "metadata": {
        "colab": {
          "base_uri": "https://localhost:8080/",
          "height": 393
        },
        "id": "7Cr9HaFLnFiA",
        "outputId": "51495772-b15d-4c9e-9b05-cb84c289d2b0"
      },
      "execution_count": 44,
      "outputs": [
        {
          "output_type": "display_data",
          "data": {
            "text/plain": [
              "<IPython.core.display.HTML object>"
            ],
            "text/html": [
              "<font color=\"dodgerblue\">model: I understand. I will respond according to your instructions, and only use information available to me up to November 2023. I am excited to assist you!  Please tell me what you would like me to do. 😊 <br></font><br>"
            ]
          },
          "metadata": {}
        },
        {
          "name": "stdout",
          "output_type": "stream",
          "text": [
            "You: Hey there\n"
          ]
        },
        {
          "output_type": "error",
          "ename": "KeyError",
          "evalue": "'candidates'",
          "traceback": [
            "\u001b[0;31m---------------------------------------------------------------------------\u001b[0m",
            "\u001b[0;31mKeyError\u001b[0m                                  Traceback (most recent call last)",
            "\u001b[0;32m<ipython-input-44-bd1f5a0dd7dd>\u001b[0m in \u001b[0;36m<cell line: 86>\u001b[0;34m()\u001b[0m\n\u001b[1;32m     89\u001b[0m \u001b[0;34m\u001b[0m\u001b[0m\n\u001b[1;32m     90\u001b[0m     \u001b[0mresponse\u001b[0m \u001b[0;34m=\u001b[0m \u001b[0minteract_with_llm\u001b[0m\u001b[0;34m(\u001b[0m\u001b[0mconversation_data\u001b[0m\u001b[0;34m)\u001b[0m\u001b[0;34m\u001b[0m\u001b[0;34m\u001b[0m\u001b[0m\n\u001b[0;32m---> 91\u001b[0;31m     \u001b[0mpretty_print_conversation\u001b[0m\u001b[0;34m(\u001b[0m\u001b[0mresponse\u001b[0m\u001b[0;34m.\u001b[0m\u001b[0mjson\u001b[0m\u001b[0;34m(\u001b[0m\u001b[0;34m)\u001b[0m\u001b[0;34m)\u001b[0m\u001b[0;34m\u001b[0m\u001b[0;34m\u001b[0m\u001b[0m\n\u001b[0m\u001b[1;32m     92\u001b[0m \u001b[0;34m\u001b[0m\u001b[0m\n\u001b[1;32m     93\u001b[0m     \u001b[0mllm_response\u001b[0m \u001b[0;34m=\u001b[0m \u001b[0mget_llm_response\u001b[0m\u001b[0;34m(\u001b[0m\u001b[0mresponse\u001b[0m\u001b[0;34m)\u001b[0m\u001b[0;34m\u001b[0m\u001b[0;34m\u001b[0m\u001b[0m\n",
            "\u001b[0;32m<ipython-input-44-bd1f5a0dd7dd>\u001b[0m in \u001b[0;36mpretty_print_conversation\u001b[0;34m(data)\u001b[0m\n\u001b[1;32m     12\u001b[0m     }\n\u001b[1;32m     13\u001b[0m \u001b[0;34m\u001b[0m\u001b[0m\n\u001b[0;32m---> 14\u001b[0;31m     \u001b[0;32mfor\u001b[0m \u001b[0mcandidate\u001b[0m \u001b[0;32min\u001b[0m \u001b[0mdata\u001b[0m\u001b[0;34m[\u001b[0m\u001b[0;34m'candidates'\u001b[0m\u001b[0;34m]\u001b[0m\u001b[0;34m:\u001b[0m\u001b[0;34m\u001b[0m\u001b[0;34m\u001b[0m\u001b[0m\n\u001b[0m\u001b[1;32m     15\u001b[0m         \u001b[0mcontent\u001b[0m \u001b[0;34m=\u001b[0m \u001b[0mcandidate\u001b[0m\u001b[0;34m[\u001b[0m\u001b[0;34m'content'\u001b[0m\u001b[0;34m]\u001b[0m\u001b[0;34m\u001b[0m\u001b[0;34m\u001b[0m\u001b[0m\n\u001b[1;32m     16\u001b[0m         \u001b[0mrole\u001b[0m \u001b[0;34m=\u001b[0m \u001b[0mcontent\u001b[0m\u001b[0;34m[\u001b[0m\u001b[0;34m'role'\u001b[0m\u001b[0;34m]\u001b[0m\u001b[0;34m\u001b[0m\u001b[0;34m\u001b[0m\u001b[0m\n",
            "\u001b[0;31mKeyError\u001b[0m: 'candidates'"
          ]
        }
      ]
    },
    {
      "cell_type": "code",
      "source": [],
      "metadata": {
        "id": "liPKyhvtnF04"
      },
      "execution_count": null,
      "outputs": []
    }
  ]
}